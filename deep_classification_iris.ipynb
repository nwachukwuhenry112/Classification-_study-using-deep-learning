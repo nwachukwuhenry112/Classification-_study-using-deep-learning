{
 "cells": [
  {
   "cell_type": "code",
   "execution_count": 1,
   "metadata": {},
   "outputs": [
    {
     "data": {
      "text/plain": [
       "'C:\\\\Users\\\\Henry\\\\Desktop\\\\my Portfolio\\\\Deep_learning_classification'"
      ]
     },
     "execution_count": 1,
     "metadata": {},
     "output_type": "execute_result"
    }
   ],
   "source": [
    "pwd"
   ]
  },
  {
   "cell_type": "code",
   "execution_count": 27,
   "metadata": {},
   "outputs": [
    {
     "name": "stdout",
     "output_type": "stream",
     "text": [
      "Requirement already satisfied: keras in c:\\users\\henry\\anaconda3\\lib\\site-packages (2.4.3)\n",
      "Requirement already satisfied: numpy>=1.9.1 in c:\\users\\henry\\anaconda3\\lib\\site-packages (from keras) (1.19.2)\n",
      "Requirement already satisfied: scipy>=0.14 in c:\\users\\henry\\anaconda3\\lib\\site-packages (from keras) (1.5.2)\n",
      "Requirement already satisfied: pyyaml in c:\\users\\henry\\anaconda3\\lib\\site-packages (from keras) (5.3.1)\n",
      "Requirement already satisfied: h5py in c:\\users\\henry\\anaconda3\\lib\\site-packages (from keras) (3.1.0)\n"
     ]
    }
   ],
   "source": [
    "import numpy as np\n",
    "from numpy.random import seed \n",
    "seed(1) \n",
    "import pandas as pd\n",
    "import tensorflow as tf\n",
    "!pip install keras\n",
    "from keras.models import Sequential\n",
    "from keras.layers import Dense\n",
    "from keras.callbacks import EarlyStopping\n",
    "tf.random.set_seed(1234)\n",
    "from keras.utils import to_categorical\n",
    "from sklearn.metrics import classification_report\n",
    "import matplotlib.pyplot as plt\n"
   ]
  },
  {
   "cell_type": "code",
   "execution_count": 3,
   "metadata": {},
   "outputs": [
    {
     "data": {
      "text/html": [
       "<div>\n",
       "<style scoped>\n",
       "    .dataframe tbody tr th:only-of-type {\n",
       "        vertical-align: middle;\n",
       "    }\n",
       "\n",
       "    .dataframe tbody tr th {\n",
       "        vertical-align: top;\n",
       "    }\n",
       "\n",
       "    .dataframe thead th {\n",
       "        text-align: right;\n",
       "    }\n",
       "</style>\n",
       "<table border=\"1\" class=\"dataframe\">\n",
       "  <thead>\n",
       "    <tr style=\"text-align: right;\">\n",
       "      <th></th>\n",
       "      <th>sepal_width</th>\n",
       "      <th>petal_width</th>\n",
       "      <th>species</th>\n",
       "    </tr>\n",
       "  </thead>\n",
       "  <tbody>\n",
       "    <tr>\n",
       "      <th>0</th>\n",
       "      <td>-0.587764</td>\n",
       "      <td>0.001753</td>\n",
       "      <td>1</td>\n",
       "    </tr>\n",
       "    <tr>\n",
       "      <th>1</th>\n",
       "      <td>1.726266</td>\n",
       "      <td>-1.181504</td>\n",
       "      <td>0</td>\n",
       "    </tr>\n",
       "  </tbody>\n",
       "</table>\n",
       "</div>"
      ],
      "text/plain": [
       "   sepal_width  petal_width  species\n",
       "0    -0.587764     0.001753        1\n",
       "1     1.726266    -1.181504        0"
      ]
     },
     "execution_count": 3,
     "metadata": {},
     "output_type": "execute_result"
    }
   ],
   "source": [
    "data = pd.read_csv('data_modeling.csv')\n",
    "data.head(2)"
   ]
  },
  {
   "cell_type": "code",
   "execution_count": 4,
   "metadata": {},
   "outputs": [
    {
     "data": {
      "text/html": [
       "<div>\n",
       "<style scoped>\n",
       "    .dataframe tbody tr th:only-of-type {\n",
       "        vertical-align: middle;\n",
       "    }\n",
       "\n",
       "    .dataframe tbody tr th {\n",
       "        vertical-align: top;\n",
       "    }\n",
       "\n",
       "    .dataframe thead th {\n",
       "        text-align: right;\n",
       "    }\n",
       "</style>\n",
       "<table border=\"1\" class=\"dataframe\">\n",
       "  <thead>\n",
       "    <tr style=\"text-align: right;\">\n",
       "      <th></th>\n",
       "      <th></th>\n",
       "      <th></th>\n",
       "      <th></th>\n",
       "    </tr>\n",
       "  </thead>\n",
       "  <tbody>\n",
       "    <tr>\n",
       "      <th></th>\n",
       "      <td>-0.587764</td>\n",
       "      <td>0.001753</td>\n",
       "      <td>1</td>\n",
       "    </tr>\n",
       "    <tr>\n",
       "      <th></th>\n",
       "      <td>1.726266</td>\n",
       "      <td>-1.181504</td>\n",
       "      <td>0</td>\n",
       "    </tr>\n",
       "    <tr>\n",
       "      <th></th>\n",
       "      <td>-1.050569</td>\n",
       "      <td>1.447956</td>\n",
       "      <td>2</td>\n",
       "    </tr>\n",
       "    <tr>\n",
       "      <th></th>\n",
       "      <td>-0.356361</td>\n",
       "      <td>0.396172</td>\n",
       "      <td>1</td>\n",
       "    </tr>\n",
       "    <tr>\n",
       "      <th></th>\n",
       "      <td>-0.587764</td>\n",
       "      <td>0.264699</td>\n",
       "      <td>1</td>\n",
       "    </tr>\n",
       "    <tr>\n",
       "      <th>...</th>\n",
       "      <td>...</td>\n",
       "      <td>...</td>\n",
       "      <td>...</td>\n",
       "    </tr>\n",
       "    <tr>\n",
       "      <th></th>\n",
       "      <td>-0.587764</td>\n",
       "      <td>0.133226</td>\n",
       "      <td>1</td>\n",
       "    </tr>\n",
       "    <tr>\n",
       "      <th></th>\n",
       "      <td>-1.281972</td>\n",
       "      <td>0.659118</td>\n",
       "      <td>2</td>\n",
       "    </tr>\n",
       "    <tr>\n",
       "      <th></th>\n",
       "      <td>2.189072</td>\n",
       "      <td>-1.312977</td>\n",
       "      <td>0</td>\n",
       "    </tr>\n",
       "    <tr>\n",
       "      <th></th>\n",
       "      <td>-1.050569</td>\n",
       "      <td>0.001753</td>\n",
       "      <td>1</td>\n",
       "    </tr>\n",
       "    <tr>\n",
       "      <th></th>\n",
       "      <td>-0.124958</td>\n",
       "      <td>1.185010</td>\n",
       "      <td>2</td>\n",
       "    </tr>\n",
       "  </tbody>\n",
       "</table>\n",
       "<p>150 rows × 3 columns</p>\n",
       "</div>"
      ],
      "text/plain": [
       "                         \n",
       "   -0.587764  0.001753  1\n",
       "    1.726266 -1.181504  0\n",
       "   -1.050569  1.447956  2\n",
       "   -0.356361  0.396172  1\n",
       "   -0.587764  0.264699  1\n",
       "..       ...       ... ..\n",
       "   -0.587764  0.133226  1\n",
       "   -1.281972  0.659118  2\n",
       "    2.189072 -1.312977  0\n",
       "   -1.050569  0.001753  1\n",
       "   -0.124958  1.185010  2\n",
       "\n",
       "[150 rows x 3 columns]"
      ]
     },
     "execution_count": 4,
     "metadata": {},
     "output_type": "execute_result"
    }
   ],
   "source": [
    "data.columns = ['']*len(data.columns)\n",
    "data.index = ['']*len(data.index)\n",
    "data"
   ]
  },
  {
   "cell_type": "code",
   "execution_count": 5,
   "metadata": {},
   "outputs": [],
   "source": [
    "data_1=data.iloc[:,-1]"
   ]
  },
  {
   "cell_type": "code",
   "execution_count": 6,
   "metadata": {},
   "outputs": [],
   "source": [
    "data_2 =data.iloc[:,:-1]"
   ]
  },
  {
   "cell_type": "code",
   "execution_count": 7,
   "metadata": {},
   "outputs": [],
   "source": [
    "y_cat = to_categorical(data_1)"
   ]
  },
  {
   "cell_type": "code",
   "execution_count": 8,
   "metadata": {},
   "outputs": [
    {
     "data": {
      "text/plain": [
       "array([[0., 1., 0.],\n",
       "       [1., 0., 0.],\n",
       "       [0., 0., 1.]], dtype=float32)"
      ]
     },
     "execution_count": 8,
     "metadata": {},
     "output_type": "execute_result"
    }
   ],
   "source": [
    "y_cat[:3]"
   ]
  },
  {
   "cell_type": "code",
   "execution_count": 9,
   "metadata": {},
   "outputs": [
    {
     "data": {
      "text/plain": [
       "(150, 3)"
      ]
     },
     "execution_count": 9,
     "metadata": {},
     "output_type": "execute_result"
    }
   ],
   "source": [
    "y_cat.shape"
   ]
  },
  {
   "cell_type": "code",
   "execution_count": 10,
   "metadata": {},
   "outputs": [],
   "source": [
    "from sklearn.model_selection import train_test_split\n",
    "\n",
    "X_train, X_test, y_train, y_test = train_test_split(data_2, y_cat , test_size=0.3, random_state=7)"
   ]
  },
  {
   "cell_type": "code",
   "execution_count": 11,
   "metadata": {},
   "outputs": [],
   "source": [
    "# MODELING FOR 8 FEATURES\n",
    "# build the model using Keras approach\n",
    "\n",
    "input_size = 2   # number of features\n",
    "output_size =3    \n",
    "hidden_layer_size =100  \n",
    "Early_stopping = tf.keras.callbacks.EarlyStopping(patience=2)"
   ]
  },
  {
   "cell_type": "code",
   "execution_count": 12,
   "metadata": {},
   "outputs": [],
   "source": [
    "from keras.models import Sequential\n",
    "# Import `Dense` from `keras.layers`\n",
    "from keras.layers import Dense\n",
    "# Initialize the constructor\n",
    "model = Sequential()\n",
    "# Add an input layer \n",
    "model.add(Dense(12, activation='relu', input_shape=(2,)))\n",
    "# Add one hidden layer \n",
    "model.add(Dense(8, activation='relu'))\n",
    "# Add an output layer \n",
    "model.add(Dense(3, activation='softmax'))"
   ]
  },
  {
   "cell_type": "code",
   "execution_count": 13,
   "metadata": {},
   "outputs": [
    {
     "name": "stdout",
     "output_type": "stream",
     "text": [
      "Epoch 1/20\n",
      "11/11 - 1s - loss: 1.0765 - accuracy: 0.4043 - val_loss: 1.0252 - val_accuracy: 0.5455\n",
      "Epoch 2/20\n",
      "11/11 - 0s - loss: 1.0303 - accuracy: 0.4468 - val_loss: 0.9984 - val_accuracy: 0.5455\n",
      "Epoch 3/20\n",
      "11/11 - 0s - loss: 0.9920 - accuracy: 0.4574 - val_loss: 0.9765 - val_accuracy: 0.5455\n",
      "Epoch 4/20\n",
      "11/11 - 0s - loss: 0.9570 - accuracy: 0.4574 - val_loss: 0.9537 - val_accuracy: 0.5455\n",
      "Epoch 5/20\n",
      "11/11 - 0s - loss: 0.9266 - accuracy: 0.4574 - val_loss: 0.9239 - val_accuracy: 0.5455\n",
      "Epoch 6/20\n",
      "11/11 - 0s - loss: 0.8974 - accuracy: 0.4574 - val_loss: 0.8909 - val_accuracy: 0.5455\n",
      "Epoch 7/20\n",
      "11/11 - 0s - loss: 0.8706 - accuracy: 0.5000 - val_loss: 0.8614 - val_accuracy: 0.5455\n",
      "Epoch 8/20\n",
      "11/11 - 0s - loss: 0.8443 - accuracy: 0.5106 - val_loss: 0.8340 - val_accuracy: 0.5455\n",
      "Epoch 9/20\n",
      "11/11 - 0s - loss: 0.8207 - accuracy: 0.5106 - val_loss: 0.8056 - val_accuracy: 0.6364\n",
      "Epoch 10/20\n",
      "11/11 - 0s - loss: 0.7984 - accuracy: 0.5106 - val_loss: 0.7821 - val_accuracy: 0.6364\n",
      "Epoch 11/20\n",
      "11/11 - 0s - loss: 0.7762 - accuracy: 0.5106 - val_loss: 0.7592 - val_accuracy: 0.6364\n",
      "Epoch 12/20\n",
      "11/11 - 0s - loss: 0.7553 - accuracy: 0.5213 - val_loss: 0.7380 - val_accuracy: 0.6364\n",
      "Epoch 13/20\n",
      "11/11 - 0s - loss: 0.7351 - accuracy: 0.5213 - val_loss: 0.7153 - val_accuracy: 0.6364\n",
      "Epoch 14/20\n",
      "11/11 - 0s - loss: 0.7141 - accuracy: 0.5426 - val_loss: 0.7001 - val_accuracy: 0.6364\n",
      "Epoch 15/20\n",
      "11/11 - 0s - loss: 0.6944 - accuracy: 0.5426 - val_loss: 0.6832 - val_accuracy: 0.6364\n",
      "Epoch 16/20\n",
      "11/11 - 0s - loss: 0.6752 - accuracy: 0.6277 - val_loss: 0.6670 - val_accuracy: 0.6364\n",
      "Epoch 17/20\n",
      "11/11 - 0s - loss: 0.6557 - accuracy: 0.6915 - val_loss: 0.6502 - val_accuracy: 0.6364\n",
      "Epoch 18/20\n",
      "11/11 - 0s - loss: 0.6362 - accuracy: 0.7872 - val_loss: 0.6325 - val_accuracy: 0.6364\n",
      "Epoch 19/20\n",
      "11/11 - 0s - loss: 0.6164 - accuracy: 0.8511 - val_loss: 0.6202 - val_accuracy: 0.6364\n",
      "Epoch 20/20\n",
      "11/11 - 0s - loss: 0.5964 - accuracy: 0.8617 - val_loss: 0.6087 - val_accuracy: 0.6364\n"
     ]
    },
    {
     "data": {
      "text/plain": [
       "<tensorflow.python.keras.callbacks.History at 0x1ce872076a0>"
      ]
     },
     "execution_count": 13,
     "metadata": {},
     "output_type": "execute_result"
    }
   ],
   "source": [
    "model.compile(loss='categorical_crossentropy',\n",
    "              optimizer='adam',\n",
    "              metrics=['accuracy'])\n",
    "                   \n",
    "model.fit(X_train, y_train,epochs=20, batch_size=9,callbacks=[Early_stopping],validation_split=0.1, verbose=2)"
   ]
  },
  {
   "cell_type": "code",
   "execution_count": 14,
   "metadata": {},
   "outputs": [
    {
     "name": "stdout",
     "output_type": "stream",
     "text": [
      "4/4 [==============================] - 0s 997us/step - loss: 0.5868 - accuracy: 0.8571\n",
      "[0.5868431925773621, 0.8571428656578064]\n"
     ]
    }
   ],
   "source": [
    "score = model.evaluate(X_train,y_train,verbose=1)\n",
    "print(score)"
   ]
  },
  {
   "cell_type": "code",
   "execution_count": 15,
   "metadata": {},
   "outputs": [
    {
     "data": {
      "text/plain": [
       "array([[0.04323119, 0.0753535 , 0.88141537],\n",
       "       [0.11190282, 0.22834888, 0.6597483 ],\n",
       "       [0.06272735, 0.17547496, 0.76179767],\n",
       "       [0.2358574 , 0.49264446, 0.2714981 ],\n",
       "       [0.04323119, 0.0753535 , 0.88141537],\n",
       "       [0.17551208, 0.18595931, 0.6385286 ],\n",
       "       [0.15678106, 0.34616023, 0.4970587 ],\n",
       "       [0.02467579, 0.03975132, 0.93557286],\n",
       "       [0.4299506 , 0.21103458, 0.35901484],\n",
       "       [0.04323119, 0.0753535 , 0.88141537],\n",
       "       [0.09380066, 0.7094852 , 0.19671409],\n",
       "       [0.4434213 , 0.18210042, 0.37447822],\n",
       "       [0.19313323, 0.37824172, 0.42862502],\n",
       "       [0.17302534, 0.4407509 , 0.38622382],\n",
       "       [0.4105416 , 0.24305594, 0.34640244],\n",
       "       [0.04369636, 0.1559351 , 0.8003685 ],\n",
       "       [0.44521356, 0.17105305, 0.38373333],\n",
       "       [0.08653519, 0.19360335, 0.71986145],\n",
       "       [0.14012277, 0.3985134 , 0.46136376],\n",
       "       [0.45116895, 0.13091826, 0.41791278],\n",
       "       [0.44521356, 0.17105305, 0.38373333],\n",
       "       [0.18361238, 0.4122193 , 0.40416837],\n",
       "       [0.4358526 , 0.19163269, 0.37251475],\n",
       "       [0.1454539 , 0.52261055, 0.33193558],\n",
       "       [0.13290629, 0.7097723 , 0.15732133],\n",
       "       [0.1771425 , 0.5537882 , 0.2690694 ],\n",
       "       [0.4299506 , 0.21103458, 0.35901484],\n",
       "       [0.06272735, 0.17547496, 0.76179767],\n",
       "       [0.44873807, 0.14316043, 0.40810147],\n",
       "       [0.09380066, 0.7094852 , 0.19671409],\n",
       "       [0.08653519, 0.19360338, 0.71986145],\n",
       "       [0.11440261, 0.7408128 , 0.14478461],\n",
       "       [0.44318822, 0.16616142, 0.39065045],\n",
       "       [0.09089569, 0.17831513, 0.7307891 ],\n",
       "       [0.09835574, 0.76910335, 0.1325409 ],\n",
       "       [0.13290629, 0.7097723 , 0.15732133],\n",
       "       [0.17708974, 0.29018277, 0.5327275 ],\n",
       "       [0.44318822, 0.16616142, 0.39065045],\n",
       "       [0.13945955, 0.68926   , 0.17128044],\n",
       "       [0.42273638, 0.22556436, 0.35169932],\n",
       "       [0.45362365, 0.11520493, 0.43117148],\n",
       "       [0.02854438, 0.02718314, 0.94427246],\n",
       "       [0.4434213 , 0.18210042, 0.37447822],\n",
       "       [0.15678106, 0.34616023, 0.4970587 ],\n",
       "       [0.12262111, 0.65135235, 0.22602658]], dtype=float32)"
      ]
     },
     "execution_count": 15,
     "metadata": {},
     "output_type": "execute_result"
    }
   ],
   "source": [
    "y_pred = model.predict( X_test)\n",
    "y_pred"
   ]
  },
  {
   "cell_type": "code",
   "execution_count": 16,
   "metadata": {},
   "outputs": [],
   "source": [
    "y_test_class = np.argmax(y_test,axis=1)\n",
    "y_pred_class = np.argmax(y_pred,axis=1) "
   ]
  },
  {
   "cell_type": "code",
   "execution_count": 17,
   "metadata": {},
   "outputs": [
    {
     "name": "stdout",
     "output_type": "stream",
     "text": [
      "Accuracy: 86.67%\n"
     ]
    }
   ],
   "source": [
    "from sklearn.metrics import accuracy_score\n",
    "accuracy = accuracy_score(y_test_class, y_pred_class )\n",
    "print(\"Accuracy: %.2f%%\" % (accuracy * 100.0))"
   ]
  },
  {
   "cell_type": "code",
   "execution_count": 18,
   "metadata": {},
   "outputs": [
    {
     "name": "stdout",
     "output_type": "stream",
     "text": [
      "              precision    recall  f1-score   support\n",
      "\n",
      "           0       1.00      1.00      1.00        14\n",
      "           1       1.00      0.68      0.81        19\n",
      "           2       0.67      1.00      0.80        12\n",
      "\n",
      "    accuracy                           0.87        45\n",
      "   macro avg       0.89      0.89      0.87        45\n",
      "weighted avg       0.91      0.87      0.87        45\n",
      "\n"
     ]
    }
   ],
   "source": [
    "print(classification_report(y_test_class,y_pred_class))"
   ]
  },
  {
   "cell_type": "code",
   "execution_count": 19,
   "metadata": {},
   "outputs": [
    {
     "data": {
      "text/plain": [
       "array([[14,  0,  0],\n",
       "       [ 0, 13,  6],\n",
       "       [ 0,  0, 12]], dtype=int64)"
      ]
     },
     "execution_count": 19,
     "metadata": {},
     "output_type": "execute_result"
    }
   ],
   "source": [
    "from sklearn.metrics import confusion_matrix\n",
    "confusion_matrix(y_test_class,y_pred_class)"
   ]
  }
 ],
 "metadata": {
  "kernelspec": {
   "display_name": "python(tensorflow)",
   "language": "python",
   "name": "tensorflow"
  },
  "language_info": {
   "codemirror_mode": {
    "name": "ipython",
    "version": 3
   },
   "file_extension": ".py",
   "mimetype": "text/x-python",
   "name": "python",
   "nbconvert_exporter": "python",
   "pygments_lexer": "ipython3",
   "version": "3.8.5"
  }
 },
 "nbformat": 4,
 "nbformat_minor": 4
}
